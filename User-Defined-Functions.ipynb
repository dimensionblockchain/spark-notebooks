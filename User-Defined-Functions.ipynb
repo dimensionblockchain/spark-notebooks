{
 "cells": [
  {
   "cell_type": "code",
   "execution_count": 10,
   "metadata": {},
   "outputs": [
    {
     "data": {
      "text/plain": [
       "parseLine: (line: String)(Int, Int)\n"
      ]
     },
     "execution_count": 10,
     "metadata": {},
     "output_type": "execute_result"
    }
   ],
   "source": [
    "def parseLine(line: String) ={\n",
    "    val fields = line.split(',')\n",
    "    val age = fields(2).toInt\n",
    "    val noOfFriends = fields(3).toInt\n",
    "    (age, noOfFriends)\n",
    "}"
   ]
  },
  {
   "cell_type": "code",
   "execution_count": 11,
   "metadata": {},
   "outputs": [
    {
     "data": {
      "text/plain": [
       "friends: org.apache.spark.rdd.RDD[String] = /user/fakefriends.csv MapPartitionsRDD[7] at textFile at <console>:25\n"
      ]
     },
     "execution_count": 11,
     "metadata": {},
     "output_type": "execute_result"
    }
   ],
   "source": [
    "val friends =  sc.textFile((\"/user/fakefriends.csv\"),4)"
   ]
  },
  {
   "cell_type": "code",
   "execution_count": 12,
   "metadata": {},
   "outputs": [
    {
     "data": {
      "text/plain": [
       "res4: Array[String] = Array(0,Will,33,385, 1,Jean-Luc,26,2, 2,Hugh,55,221, 3,Deanna,40,465, 4,Quark,68,21, 5,Weyoun,59,318, 6,Gowron,37,220, 7,Will,54,307, 8,Jadzia,38,380, 9,Hugh,27,181, 10,Odo,53,191, 11,Ben,57,372, 12,Keiko,54,253, 13,Jean-Luc,56,444, 14,Hugh,43,49, 15,Rom,36,49, 16,Weyoun,22,323, 17,Odo,35,13, 18,Jean-Luc,45,455, 19,Geordi,60,246, 20,Odo,67,220, 21,Miles,19,268, 22,Quark,30,72, 23,Keiko,51,271, 24,Julian,25,1, 25,Ben,21,445, 26,Julian,22,100, 27,Leeta,42,363, 28,Martok,49,476, 29,Nog,48,364, 30,Keiko,50,175, 31,Miles,39,161, 32,Nog,26,281, 33,Dukat,53,197, 34,Jean-Luc,43,249, 35,Beverly,27,305, 36,Kasidy,32,81, 37,Geordi,58,21, 38,Deanna,64,65, 39,Morn,31,192, 40,Odo,52,413, 41,Hugh,67,167, 42,Brunt,54,75, 43,Guinan,58,345, 44,Nerys,35,244, 45,Dukat,52,77, 46,Morn,2..."
      ]
     },
     "execution_count": 12,
     "metadata": {},
     "output_type": "execute_result"
    }
   ],
   "source": [
    "friends.collect"
   ]
  },
  {
   "cell_type": "code",
   "execution_count": 13,
   "metadata": {},
   "outputs": [
    {
     "data": {
      "text/plain": [
       "agenoOfFriends: org.apache.spark.rdd.RDD[(Int, Int)] = MapPartitionsRDD[8] at map at <console>:28\n"
      ]
     },
     "execution_count": 13,
     "metadata": {},
     "output_type": "execute_result"
    }
   ],
   "source": [
    "val agenoOfFriends = friends.map(parseLine)"
   ]
  },
  {
   "cell_type": "code",
   "execution_count": 14,
   "metadata": {},
   "outputs": [
    {
     "data": {
      "text/plain": [
       "res5: Array[(Int, Int)] = Array((33,385), (26,2), (55,221), (40,465), (68,21), (59,318), (37,220), (54,307), (38,380), (27,181), (53,191), (57,372), (54,253), (56,444), (43,49), (36,49), (22,323), (35,13), (45,455), (60,246), (67,220), (19,268), (30,72), (51,271), (25,1), (21,445), (22,100), (42,363), (49,476), (48,364), (50,175), (39,161), (26,281), (53,197), (43,249), (27,305), (32,81), (58,21), (64,65), (31,192), (52,413), (67,167), (54,75), (58,345), (35,244), (52,77), (25,96), (24,49), (20,1), (40,254), (51,283), (36,212), (19,269), (62,31), (19,5), (41,278), (44,194), (57,294), (59,158), (59,284), (20,100), (62,442), (69,9), (58,54), (31,15), (52,169), (21,477), (48,135), (33,74), (30,204), (52,393), (45,184), (22,179), (20,384), (65,208), (40,459), (62,201), (40,407), (61,337), (..."
      ]
     },
     "execution_count": 14,
     "metadata": {},
     "output_type": "execute_result"
    }
   ],
   "source": [
    "agenoOfFriends.collect"
   ]
  },
  {
   "cell_type": "code",
   "execution_count": 15,
   "metadata": {},
   "outputs": [
    {
     "data": {
      "text/plain": [
       "totalByAge: org.apache.spark.rdd.RDD[(Int, (Int, Int))] = ShuffledRDD[10] at reduceByKey at <console>:26\n"
      ]
     },
     "execution_count": 15,
     "metadata": {},
     "output_type": "execute_result"
    }
   ],
   "source": [
    "val totalByAge = agenoOfFriends.mapValues(x => (x,1) ).reduceByKey( (x,y) => (x._1 + y._1, x._2 + y._2) )"
   ]
  },
  {
   "cell_type": "code",
   "execution_count": 18,
   "metadata": {},
   "outputs": [
    {
     "data": {
      "text/plain": [
       "averageAge: Array[(Int, Int)] = Array((52,312), (56,399), (28,226), (48,261), (32,273), (36,232), (24,230), (64,237), (40,268), (20,161), (60,222), (44,277), (68,264), (41,276), (61,254), (21,369), (53,224), (25,164), (29,215), (65,320), (57,276), (33,290), (37,234), (45,376), (69,214), (49,236), (34,250), (66,290), (22,140), (54,298), (46,198), (30,227), (50,239), (62,223), (42,395), (18,448), (38,247), (58,175), (26,261), (19,208), (39,205), (47,248), (55,262), (59,191), (35,204), (27,256), (51,308), (23,174), (63,397), (67,241), (31,218), (43,200))\n"
      ]
     },
     "execution_count": 18,
     "metadata": {},
     "output_type": "execute_result"
    }
   ],
   "source": [
    "val averageAge = totalByAge.mapValues(x => x._1/x._2).collect"
   ]
  },
  {
   "cell_type": "code",
   "execution_count": 22,
   "metadata": {},
   "outputs": [
    {
     "data": {
      "text/plain": [
       "parseLine2: (line: String)(String, String, Double)\n"
      ]
     },
     "execution_count": 22,
     "metadata": {},
     "output_type": "execute_result"
    }
   ],
   "source": [
    "def parseLine2(line: String) = {\n",
    "    val t1800 = line.split(\",\")\n",
    "    val place = t1800(0)\n",
    "    val tempCat = t1800(2)\n",
    "    val temp = t1800(3).toFloat / 10.0\n",
    "    (place, tempCat, temp)\n",
    "}"
   ]
  },
  {
   "cell_type": "code",
   "execution_count": 48,
   "metadata": {},
   "outputs": [
    {
     "data": {
      "text/plain": [
       "t1800A: org.apache.spark.rdd.RDD[String] = /user/1800.csv MapPartitionsRDD[37] at textFile at <console>:28\n"
      ]
     },
     "execution_count": 48,
     "metadata": {},
     "output_type": "execute_result"
    }
   ],
   "source": [
    "val t1800A = sc.textFile(\"/user/1800.csv\")"
   ]
  },
  {
   "cell_type": "code",
   "execution_count": 24,
   "metadata": {},
   "outputs": [
    {
     "data": {
      "text/plain": [
       "res8: Array[String] = Array(ITE00100554,18000101,TMAX,-75,,,E,, ITE00100554,18000101,TMIN,-148,,,E,, GM000010962,18000101,PRCP,0,,,E,, EZE00100082,18000101,TMAX,-86,,,E,, EZE00100082,18000101,TMIN,-135,,,E,, ITE00100554,18000102,TMAX,-60,,I,E,, ITE00100554,18000102,TMIN,-125,,,E,, GM000010962,18000102,PRCP,0,,,E,, EZE00100082,18000102,TMAX,-44,,,E,, EZE00100082,18000102,TMIN,-130,,,E,, ITE00100554,18000103,TMAX,-23,,,E,, ITE00100554,18000103,TMIN,-46,,I,E,, GM000010962,18000103,PRCP,4,,,E,, EZE00100082,18000103,TMAX,-10,,,E,, EZE00100082,18000103,TMIN,-73,,,E,, ITE00100554,18000104,TMAX,0,,,E,, ITE00100554,18000104,TMIN,-13,,,E,, GM000010962,18000104,PRCP,0,,,E,, EZE00100082,18000104,TMAX,-55,,,E,, EZE00100082,18000104,TMIN,-74,,,E,, ITE00100554,18000105,TMAX,10,,,E,, ITE00100554,180001..."
      ]
     },
     "execution_count": 24,
     "metadata": {},
     "output_type": "execute_result"
    }
   ],
   "source": [
    "t1800A.collect"
   ]
  },
  {
   "cell_type": "code",
   "execution_count": 28,
   "metadata": {},
   "outputs": [
    {
     "data": {
      "text/plain": [
       "t1800B: org.apache.spark.rdd.RDD[(String, String, Double)] = MapPartitionsRDD[19] at map at <console>:28\n"
      ]
     },
     "execution_count": 28,
     "metadata": {},
     "output_type": "execute_result"
    }
   ],
   "source": [
    "val t1800B = t1800A.map(parseLine2)"
   ]
  },
  {
   "cell_type": "code",
   "execution_count": 35,
   "metadata": {},
   "outputs": [
    {
     "data": {
      "text/plain": [
       "res12: Array[(String, String, Double)] = Array((ITE00100554,TMAX,-7.5), (ITE00100554,TMIN,-14.8), (GM000010962,PRCP,0.0), (EZE00100082,TMAX,-8.6), (EZE00100082,TMIN,-13.5), (ITE00100554,TMAX,-6.0), (ITE00100554,TMIN,-12.5), (GM000010962,PRCP,0.0), (EZE00100082,TMAX,-4.4), (EZE00100082,TMIN,-13.0), (ITE00100554,TMAX,-2.3), (ITE00100554,TMIN,-4.6), (GM000010962,PRCP,0.4), (EZE00100082,TMAX,-1.0), (EZE00100082,TMIN,-7.3), (ITE00100554,TMAX,0.0), (ITE00100554,TMIN,-1.3), (GM000010962,PRCP,0.0), (EZE00100082,TMAX,-5.5), (EZE00100082,TMIN,-7.4), (ITE00100554,TMAX,1.0), (ITE00100554,TMIN,-0.6), (GM000010962,PRCP,0.0), (EZE00100082,TMAX,-4.0), (EZE00100082,TMIN,-5.8), (ITE00100554,TMAX,1.3), (ITE00100554,TMIN,1.3), (GM000010962,PRCP,0.0), (EZE00100082,TMAX,-3.9), (EZE00100082,TMIN,-5.7), (ITE00..."
      ]
     },
     "execution_count": 35,
     "metadata": {},
     "output_type": "execute_result"
    }
   ],
   "source": [
    "t1800B.collect"
   ]
  },
  {
   "cell_type": "code",
   "execution_count": 36,
   "metadata": {},
   "outputs": [
    {
     "data": {
      "text/plain": [
       "t1800C: org.apache.spark.rdd.RDD[(String, String, Double)] = MapPartitionsRDD[21] at filter at <console>:26\n"
      ]
     },
     "execution_count": 36,
     "metadata": {},
     "output_type": "execute_result"
    }
   ],
   "source": [
    "val t1800C = t1800B.filter(x => x._2 == \"TMIN\")"
   ]
  },
  {
   "cell_type": "code",
   "execution_count": 37,
   "metadata": {},
   "outputs": [
    {
     "data": {
      "text/plain": [
       "res13: Array[(String, String, Double)] = Array((ITE00100554,TMIN,-14.8), (EZE00100082,TMIN,-13.5), (ITE00100554,TMIN,-12.5), (EZE00100082,TMIN,-13.0), (ITE00100554,TMIN,-4.6), (EZE00100082,TMIN,-7.3), (ITE00100554,TMIN,-1.3), (EZE00100082,TMIN,-7.4), (ITE00100554,TMIN,-0.6), (EZE00100082,TMIN,-5.8), (ITE00100554,TMIN,1.3), (EZE00100082,TMIN,-5.7), (ITE00100554,TMIN,1.0), (EZE00100082,TMIN,-5.0), (ITE00100554,TMIN,1.4), (EZE00100082,TMIN,-3.1), (ITE00100554,TMIN,2.3), (EZE00100082,TMIN,-4.6), (ITE00100554,TMIN,3.1), (EZE00100082,TMIN,-7.5), (ITE00100554,TMIN,4.1), (EZE00100082,TMIN,-6.2), (ITE00100554,TMIN,2.9), (EZE00100082,TMIN,-6.0), (ITE00100554,TMIN,1.3), (EZE00100082,TMIN,-6.0), (ITE00100554,TMIN,2.3), (EZE00100082,TMIN,-3.5), (ITE00100554,TMIN,4.1), (EZE00100082,TMIN,-2.3), (ITE00..."
      ]
     },
     "execution_count": 37,
     "metadata": {},
     "output_type": "execute_result"
    }
   ],
   "source": [
    "t1800C.collect"
   ]
  },
  {
   "cell_type": "code",
   "execution_count": 40,
   "metadata": {},
   "outputs": [
    {
     "data": {
      "text/plain": [
       "t1800D: org.apache.spark.rdd.RDD[(String, Double)] = MapPartitionsRDD[22] at map at <console>:26\n"
      ]
     },
     "execution_count": 40,
     "metadata": {},
     "output_type": "execute_result"
    }
   ],
   "source": [
    "val t1800D = t1800C.map( x => (x._1, x._3))"
   ]
  },
  {
   "cell_type": "code",
   "execution_count": 41,
   "metadata": {},
   "outputs": [
    {
     "data": {
      "text/plain": [
       "res14: Array[(String, Double)] = Array((ITE00100554,-14.8), (EZE00100082,-13.5), (ITE00100554,-12.5), (EZE00100082,-13.0), (ITE00100554,-4.6), (EZE00100082,-7.3), (ITE00100554,-1.3), (EZE00100082,-7.4), (ITE00100554,-0.6), (EZE00100082,-5.8), (ITE00100554,1.3), (EZE00100082,-5.7), (ITE00100554,1.0), (EZE00100082,-5.0), (ITE00100554,1.4), (EZE00100082,-3.1), (ITE00100554,2.3), (EZE00100082,-4.6), (ITE00100554,3.1), (EZE00100082,-7.5), (ITE00100554,4.1), (EZE00100082,-6.2), (ITE00100554,2.9), (EZE00100082,-6.0), (ITE00100554,1.3), (EZE00100082,-6.0), (ITE00100554,2.3), (EZE00100082,-3.5), (ITE00100554,4.1), (EZE00100082,-2.3), (ITE00100554,4.1), (EZE00100082,-3.7), (ITE00100554,4.8), (EZE00100082,-3.5), (ITE00100554,4.6), (EZE00100082,0.9), (ITE00100554,5.0), (EZE00100082,3.4), (ITE001005..."
      ]
     },
     "execution_count": 41,
     "metadata": {},
     "output_type": "execute_result"
    }
   ],
   "source": [
    "t1800D.collect"
   ]
  },
  {
   "cell_type": "code",
   "execution_count": 42,
   "metadata": {},
   "outputs": [
    {
     "data": {
      "text/plain": [
       "import scala.math.min\n",
       "t1800E: org.apache.spark.rdd.RDD[(String, Double)] = ShuffledRDD[23] at reduceByKey at <console>:27\n"
      ]
     },
     "execution_count": 42,
     "metadata": {},
     "output_type": "execute_result"
    }
   ],
   "source": [
    "import scala.math.min\n",
    "val t1800E = t1800D.reduceByKey((x,y) => min(x,y))"
   ]
  },
  {
   "cell_type": "code",
   "execution_count": 44,
   "metadata": {},
   "outputs": [
    {
     "data": {
      "text/plain": [
       "res16: Array[(String, Double)] = Array((EZE00100082,-13.5), (ITE00100554,-14.8))\n"
      ]
     },
     "execution_count": 44,
     "metadata": {},
     "output_type": "execute_result"
    }
   ],
   "source": [
    "t1800E.collect"
   ]
  },
  {
   "cell_type": "markdown",
   "metadata": {},
   "source": [
    "#### We can also shorten by chaining our methods into a more efficient code piece."
   ]
  },
  {
   "cell_type": "code",
   "execution_count": 49,
   "metadata": {},
   "outputs": [
    {
     "data": {
      "text/plain": [
       "t1800A: Array[(String, Double)] = Array((EZE00100082,-13.5), (ITE00100554,-14.8))\n"
      ]
     },
     "execution_count": 49,
     "metadata": {},
     "output_type": "execute_result"
    }
   ],
   "source": [
    "val t1800A = (sc.textFile(\"/user/1800.csv\")\n",
    "              .map(parseLine2)\n",
    "                  .filter(x => x._2 == \"TMIN\")\n",
    "                      .map( x => (x._1, x._3))\n",
    "                          .reduceByKey((x,y) => min(x,y))\n",
    "                              .collect\n",
    "             )"
   ]
  }
 ],
 "metadata": {
  "kernelspec": {
   "display_name": "spylon-kernel",
   "language": "scala",
   "name": "spylon-kernel"
  },
  "language_info": {
   "codemirror_mode": "text/x-scala",
   "file_extension": ".scala",
   "help_links": [
    {
     "text": "MetaKernel Magics",
     "url": "https://metakernel.readthedocs.io/en/latest/source/README.html"
    }
   ],
   "mimetype": "text/x-scala",
   "name": "scala",
   "pygments_lexer": "scala",
   "version": "0.4.1"
  }
 },
 "nbformat": 4,
 "nbformat_minor": 4
}
