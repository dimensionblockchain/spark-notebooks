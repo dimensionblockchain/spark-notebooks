{
 "cells": [
  {
   "cell_type": "code",
   "execution_count": 3,
   "metadata": {},
   "outputs": [
    {
     "data": {
      "text/plain": [
       "import org.apache.spark.SparkContext\n",
       "import org.apache.spark.SparkContext._\n",
       "import org.apache.spark.SparkConf\n",
       "defined object HelloSpark\n"
      ]
     },
     "execution_count": 3,
     "metadata": {},
     "output_type": "execute_result"
    }
   ],
   "source": [
    "import org.apache.spark.SparkContext\n",
    "import org.apache.spark.SparkContext._\n",
    "import org.apache.spark.SparkConf\n",
    "\n",
    "// an example not of logic but more structure\n",
    "\n",
    "object HelloSpark {\n",
    "    def main(arga: Array[String]) = {\n",
    "        val logFile = \"/user/book.txt\" // just naming not loading\n",
    "        \n",
    "        val conf = new SparkConf().setAppName(\"Simple App\") // these 2 lines are not needed in spark shell\n",
    "        val sc = new SparkContext(conf)\n",
    "        \n",
    "        val logData = sc.textFile(logFile) // here we read the file\n",
    "        \n",
    "        val numAs = logData.filter(line => line.contains(\"a\")).count() // counting lines that contain a & b\n",
    "        val numBs = logData.filter(line => line.contains(\"b\")).count()\n",
    "        \n",
    "        println(\"Lines with a: %s, Lines with b: %s\".format(numAs, numBs))\n",
    "    }\n",
    "}\n",
    "                                                                                                                                                                 "
   ]
  },
  {
   "cell_type": "markdown",
   "metadata": {},
   "source": [
    "<img src ='spark-shell.png'>"
   ]
  },
  {
   "cell_type": "code",
   "execution_count": null,
   "metadata": {},
   "outputs": [],
   "source": []
  }
 ],
 "metadata": {
  "kernelspec": {
   "display_name": "spylon-kernel",
   "language": "scala",
   "name": "spylon-kernel"
  },
  "language_info": {
   "codemirror_mode": "text/x-scala",
   "file_extension": ".scala",
   "help_links": [
    {
     "text": "MetaKernel Magics",
     "url": "https://metakernel.readthedocs.io/en/latest/source/README.html"
    }
   ],
   "mimetype": "text/x-scala",
   "name": "scala",
   "pygments_lexer": "scala",
   "version": "0.4.1"
  }
 },
 "nbformat": 4,
 "nbformat_minor": 4
}
