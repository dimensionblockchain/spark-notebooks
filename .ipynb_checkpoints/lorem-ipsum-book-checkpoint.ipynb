{
 "cells": [
  {
   "cell_type": "code",
   "execution_count": 1,
   "metadata": {},
   "outputs": [
    {
     "data": {
      "text/plain": [
       "Intitializing Scala interpreter ..."
      ]
     },
     "metadata": {},
     "output_type": "display_data"
    },
    {
     "data": {
      "text/plain": [
       "Spark Web UI available at http://10.0.2.15:4043\n",
       "SparkContext available as 'sc' (version = 2.4.4, master = local[*], app id = local-1718255296577)\n",
       "SparkSession available as 'spark'\n"
      ]
     },
     "metadata": {},
     "output_type": "display_data"
    },
    {
     "data": {
      "text/plain": [
       "loremBook: org.apache.spark.rdd.RDD[String] = /user/lorem-book.txt MapPartitionsRDD[1] at textFile at <console>:25\n"
      ]
     },
     "execution_count": 1,
     "metadata": {},
     "output_type": "execute_result"
    }
   ],
   "source": [
    "val loremBook = sc.textFile(\"/user/lorem-book.txt\")"
   ]
  },
  {
   "cell_type": "code",
   "execution_count": 2,
   "metadata": {},
   "outputs": [
    {
     "data": {
      "text/plain": [
       "res0: Array[String] = Array(Lorem ipsum dolor sit amet, consectetur adipiscing elit. Praesent cursus diam eget neque interdum hendrerit. Pellentesque lacinia, nibh non venenatis ullamcorper, dui sem lobortis sapien, non elementum tortor leo sit amet nunc. In hac habitasse platea dictumst. Mauris ac lobortis augue, in eleifend sapien. Maecenas erat tortor, eleifend et eros sit amet, dapibus laoreet sem. In hac habitasse platea dictumst. Sed eget lacus ac ipsum porta mattis sed eu justo. Pellentesque urna mauris, faucibus et ipsum eu, accumsan dignissim nisl. Vestibulum lectus magna, ultricies ac consectetur ac, venenatis ut est. Praesent eget sapien in libero scelerisque tincidunt. Ut pharetra libero velit, at efficitur nulla suscipit a. Pellentesque molestie, nibh non convallis laoreet,..."
      ]
     },
     "execution_count": 2,
     "metadata": {},
     "output_type": "execute_result"
    }
   ],
   "source": [
    "loremBook.collect // get a quick look"
   ]
  },
  {
   "cell_type": "code",
   "execution_count": 4,
   "metadata": {},
   "outputs": [
    {
     "data": {
      "text/plain": [
       "warning: there was one feature warning; re-run with -feature for details\n",
       "res2: Array[String] = Array(Lorem ipsum dolor sit amet, consectetur adipiscing elit. Praesent cursus diam eget neque interdum hendrerit. Pellentesque lacinia, nibh non venenatis ullamcorper, dui sem lobortis sapien, non elementum tortor leo sit amet nunc. In hac habitasse platea dictumst. Mauris ac lobortis augue, in eleifend sapien. Maecenas erat tortor, eleifend et eros sit amet, dapibus laoreet sem. In hac habitasse platea dictumst. Sed eget lacus ac ipsum porta mattis sed eu justo. Pellentesque urna mauris, faucibus et ipsum eu, accumsan dignissim nisl. Vestibulum lectus magna, ultricies ac consectetur ac, venenatis ut est. Praesent eget sapien in libero scelerisque tincidunt. Ut pharetra libero velit, at efficitur nulla suscipit a. Pellentesque molestie, nibh non convallis laoreet,..."
      ]
     },
     "execution_count": 4,
     "metadata": {},
     "output_type": "execute_result"
    }
   ],
   "source": [
    "loremBook collect // this works as well "
   ]
  },
  {
   "cell_type": "code",
   "execution_count": null,
   "metadata": {},
   "outputs": [],
   "source": []
  }
 ],
 "metadata": {
  "kernelspec": {
   "display_name": "spylon-kernel",
   "language": "scala",
   "name": "spylon-kernel"
  },
  "language_info": {
   "codemirror_mode": "text/x-scala",
   "file_extension": ".scala",
   "help_links": [
    {
     "text": "MetaKernel Magics",
     "url": "https://metakernel.readthedocs.io/en/latest/source/README.html"
    }
   ],
   "mimetype": "text/x-scala",
   "name": "scala",
   "pygments_lexer": "scala",
   "version": "0.4.1"
  }
 },
 "nbformat": 4,
 "nbformat_minor": 4
}
