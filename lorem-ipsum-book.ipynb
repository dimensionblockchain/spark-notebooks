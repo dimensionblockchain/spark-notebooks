{
 "cells": [
  {
   "cell_type": "code",
   "execution_count": 1,
   "metadata": {},
   "outputs": [
    {
     "data": {
      "text/plain": [
       "Intitializing Scala interpreter ..."
      ]
     },
     "metadata": {},
     "output_type": "display_data"
    },
    {
     "data": {
      "text/plain": [
       "Spark Web UI available at http://10.0.2.15:4043\n",
       "SparkContext available as 'sc' (version = 2.4.4, master = local[*], app id = local-1718255296577)\n",
       "SparkSession available as 'spark'\n"
      ]
     },
     "metadata": {},
     "output_type": "display_data"
    },
    {
     "data": {
      "text/plain": [
       "loremBook: org.apache.spark.rdd.RDD[String] = /user/lorem-book.txt MapPartitionsRDD[1] at textFile at <console>:25\n"
      ]
     },
     "execution_count": 1,
     "metadata": {},
     "output_type": "execute_result"
    }
   ],
   "source": [
    "val loremBook = sc.textFile(\"/user/lorem-book.txt\")"
   ]
  },
  {
   "cell_type": "code",
   "execution_count": 2,
   "metadata": {},
   "outputs": [
    {
     "data": {
      "text/plain": [
       "res0: Array[String] = Array(Lorem ipsum dolor sit amet, consectetur adipiscing elit. Praesent cursus diam eget neque interdum hendrerit. Pellentesque lacinia, nibh non venenatis ullamcorper, dui sem lobortis sapien, non elementum tortor leo sit amet nunc. In hac habitasse platea dictumst. Mauris ac lobortis augue, in eleifend sapien. Maecenas erat tortor, eleifend et eros sit amet, dapibus laoreet sem. In hac habitasse platea dictumst. Sed eget lacus ac ipsum porta mattis sed eu justo. Pellentesque urna mauris, faucibus et ipsum eu, accumsan dignissim nisl. Vestibulum lectus magna, ultricies ac consectetur ac, venenatis ut est. Praesent eget sapien in libero scelerisque tincidunt. Ut pharetra libero velit, at efficitur nulla suscipit a. Pellentesque molestie, nibh non convallis laoreet,..."
      ]
     },
     "execution_count": 2,
     "metadata": {},
     "output_type": "execute_result"
    }
   ],
   "source": [
    "loremBook.collect // get a quick look"
   ]
  },
  {
   "cell_type": "code",
   "execution_count": 4,
   "metadata": {},
   "outputs": [
    {
     "data": {
      "text/plain": [
       "warning: there was one feature warning; re-run with -feature for details\n",
       "res2: Array[String] = Array(Lorem ipsum dolor sit amet, consectetur adipiscing elit. Praesent cursus diam eget neque interdum hendrerit. Pellentesque lacinia, nibh non venenatis ullamcorper, dui sem lobortis sapien, non elementum tortor leo sit amet nunc. In hac habitasse platea dictumst. Mauris ac lobortis augue, in eleifend sapien. Maecenas erat tortor, eleifend et eros sit amet, dapibus laoreet sem. In hac habitasse platea dictumst. Sed eget lacus ac ipsum porta mattis sed eu justo. Pellentesque urna mauris, faucibus et ipsum eu, accumsan dignissim nisl. Vestibulum lectus magna, ultricies ac consectetur ac, venenatis ut est. Praesent eget sapien in libero scelerisque tincidunt. Ut pharetra libero velit, at efficitur nulla suscipit a. Pellentesque molestie, nibh non convallis laoreet,..."
      ]
     },
     "execution_count": 4,
     "metadata": {},
     "output_type": "execute_result"
    }
   ],
   "source": [
    "loremBook collect // this works as well "
   ]
  },
  {
   "cell_type": "code",
   "execution_count": 19,
   "metadata": {},
   "outputs": [
    {
     "data": {
      "text/plain": [
       "loremBookFlat: Array[(String, Int)] = Array((amet,115), (ac,114), (at,107), (a,107), (vitae,103), (Aliquam,63), (Nulla,59), (ante,59), (erat,53), (faucibus,51), (Etiam,50), (malesuada,49), (nulla,48), (Cras,48), (Nullam,48), (gravida,47), (varius,47), (iaculis,45), (arcu,45), (urna,44), (viverra,44), (porta,43), (ligula,43), (placerat,43), (augue,43), (sagittis,42), (fringilla,41), (Curabitur,41), (egestas,40), (laoreet,39), (lacus,39), (facilisis,39), (volutpat,39), (Phasellus,39), (Maecenas,39), (diam,39), (magna,38), (Praesent,38), (dapibus,37), (Mauris,37), (maximus,36), (Aenean,36), (aliquet,36), (massa,36), (lacinia,36), (sapien,35), (Nam,35), (consequat,35), (venenatis,35), (mauris,34), (pharetra,34), (sodales,34), (vulputate,33), (ullamcorper,33), (vehicula,33), (accumsan,33), (..."
      ]
     },
     "execution_count": 19,
     "metadata": {},
     "output_type": "execute_result"
    }
   ],
   "source": [
    "val loremBookFlat = loremBook.flatMap(x => x.split(\" \"))\n",
    "                                .map(y => (y,1))\n",
    "                                    .reduceByKey((x,y) => (x+y))\n",
    "                                        .sortBy(_._2, false)\n",
    "                                            .filter(_._1.contains(\"a\"))\n",
    "                                                .collect"
   ]
  },
  {
   "cell_type": "markdown",
   "metadata": {},
   "source": [
    "## Here we get a solid word count on a 10,000 word document."
   ]
  },
  {
   "cell_type": "code",
   "execution_count": null,
   "metadata": {},
   "outputs": [],
   "source": []
  }
 ],
 "metadata": {
  "kernelspec": {
   "display_name": "spylon-kernel",
   "language": "scala",
   "name": "spylon-kernel"
  },
  "language_info": {
   "codemirror_mode": "text/x-scala",
   "file_extension": ".scala",
   "help_links": [
    {
     "text": "MetaKernel Magics",
     "url": "https://metakernel.readthedocs.io/en/latest/source/README.html"
    }
   ],
   "mimetype": "text/x-scala",
   "name": "scala",
   "pygments_lexer": "scala",
   "version": "0.4.1"
  }
 },
 "nbformat": 4,
 "nbformat_minor": 4
}
