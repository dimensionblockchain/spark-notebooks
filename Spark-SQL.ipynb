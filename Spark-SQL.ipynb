{
 "cells": [
  {
   "cell_type": "markdown",
   "metadata": {},
   "source": [
    "## Dataframe from RDD - SparkSQL is for strutured data"
   ]
  },
  {
   "cell_type": "code",
   "execution_count": 2,
   "metadata": {
    "scrolled": true
   },
   "outputs": [
    {
     "data": {
      "text/plain": [
       "a: org.apache.spark.rdd.RDD[Int] = ParallelCollectionRDD[0] at parallelize at <console>:25\n"
      ]
     },
     "execution_count": 2,
     "metadata": {},
     "output_type": "execute_result"
    }
   ],
   "source": [
    "val a = sc.parallelize(1 to 10) // create a simple RDD"
   ]
  },
  {
   "cell_type": "code",
   "execution_count": 3,
   "metadata": {},
   "outputs": [
    {
     "data": {
      "text/plain": [
       "res0: Array[Int] = Array(1, 2, 3, 4, 5, 6, 7, 8, 9, 10)\n"
      ]
     },
     "execution_count": 3,
     "metadata": {},
     "output_type": "execute_result"
    }
   ],
   "source": [
    "a.collect"
   ]
  },
  {
   "cell_type": "code",
   "execution_count": 4,
   "metadata": {},
   "outputs": [
    {
     "data": {
      "text/plain": [
       "b: org.apache.spark.rdd.RDD[(Int, Int)] = MapPartitionsRDD[1] at map at <console>:26\n"
      ]
     },
     "execution_count": 4,
     "metadata": {},
     "output_type": "execute_result"
    }
   ],
   "source": [
    "val b = a.map(x => (x,x+1)) // add the first placeholder + 1 to the second place to get a pair of values"
   ]
  },
  {
   "cell_type": "code",
   "execution_count": 5,
   "metadata": {},
   "outputs": [
    {
     "data": {
      "text/plain": [
       "res1: Array[(Int, Int)] = Array((1,2), (2,3), (3,4), (4,5), (5,6), (6,7), (7,8), (8,9), (9,10), (10,11))\n"
      ]
     },
     "execution_count": 5,
     "metadata": {},
     "output_type": "execute_result"
    }
   ],
   "source": [
    "b.collect"
   ]
  },
  {
   "cell_type": "code",
   "execution_count": 7,
   "metadata": {},
   "outputs": [
    {
     "data": {
      "text/plain": [
       "dataFrame: org.apache.spark.sql.DataFrame = [first: int, second: int]\n"
      ]
     },
     "execution_count": 7,
     "metadata": {},
     "output_type": "execute_result"
    }
   ],
   "source": [
    "val dataFrame = b.toDF(\"first\",\"second\")  // create a DataFrame w/ 2 columns"
   ]
  },
  {
   "cell_type": "code",
   "execution_count": 9,
   "metadata": {},
   "outputs": [
    {
     "name": "stdout",
     "output_type": "stream",
     "text": [
      "+-----+------+\n",
      "|first|second|\n",
      "+-----+------+\n",
      "|    1|     2|\n",
      "|    2|     3|\n",
      "|    3|     4|\n",
      "|    4|     5|\n",
      "|    5|     6|\n",
      "|    6|     7|\n",
      "|    7|     8|\n",
      "|    8|     9|\n",
      "|    9|    10|\n",
      "|   10|    11|\n",
      "+-----+------+\n",
      "\n"
     ]
    }
   ],
   "source": [
    "dataFrame.show"
   ]
  },
  {
   "cell_type": "markdown",
   "metadata": {},
   "source": [
    "## DataFrame from a List"
   ]
  },
  {
   "cell_type": "code",
   "execution_count": 28,
   "metadata": {},
   "outputs": [
    {
     "data": {
      "text/plain": [
       "cartoonCharacters: List[(String, Int)] = List((Bugs,1), (Elmer,5), (Daffy,3), (Sylvester,6), (Tweety,7), (Sam,9), (Porky,8), (Fog Horn,10), (Coyote,2), (Road Runner,4))\n"
      ]
     },
     "execution_count": 28,
     "metadata": {},
     "output_type": "execute_result"
    }
   ],
   "source": [
    "val cartoonCharacters = List((\"Bugs\", 1),(\"Elmer\", 5),(\"Daffy\", 3),(\"Sylvester\", 6),(\"Tweety\",7),\n",
    "                             (\"Sam\",9),(\"Porky\",8),(\"Fog Horn\",10),(\"Coyote\",2),(\"Road Runner\",4))\n",
    "// this is the same for a Sequence as well\n",
    "//  val cartoonCharacters = Seq((\"Bugs\", 1),(\"Elmer\", 5),(\"Daffy\", 3),(\"Sylvester\", 6),(\"Tweety\",7),\n",
    "//                             (\"Sam\",9),(\"Porky\",8),(\"Fog Horn\",10),(\"Coyote\",2),(\"Road Runner\",4))"
   ]
  },
  {
   "cell_type": "code",
   "execution_count": 32,
   "metadata": {},
   "outputs": [
    {
     "data": {
      "text/plain": [
       "characterPopularity: org.apache.spark.sql.DataFrame = [Name: string, Popularity: int]\n"
      ]
     },
     "execution_count": 32,
     "metadata": {},
     "output_type": "execute_result"
    }
   ],
   "source": [
    "val characterPopularity = cartoonCharacters.toDF(\"Name\", \"Popularity\")"
   ]
  },
  {
   "cell_type": "code",
   "execution_count": 33,
   "metadata": {},
   "outputs": [
    {
     "name": "stdout",
     "output_type": "stream",
     "text": [
      "+-----------+----------+\n",
      "|       Name|Popularity|\n",
      "+-----------+----------+\n",
      "|       Bugs|         1|\n",
      "|      Elmer|         5|\n",
      "|      Daffy|         3|\n",
      "|  Sylvester|         6|\n",
      "|     Tweety|         7|\n",
      "|        Sam|         9|\n",
      "|      Porky|         8|\n",
      "|   Fog Horn|        10|\n",
      "|     Coyote|         2|\n",
      "|Road Runner|         4|\n",
      "+-----------+----------+\n",
      "\n"
     ]
    }
   ],
   "source": [
    "characterPopularity.show"
   ]
  },
  {
   "cell_type": "code",
   "execution_count": 34,
   "metadata": {},
   "outputs": [],
   "source": [
    "// run some queries\n",
    "characterPopularity.registerTempTable(\"cartoonCharacters\")"
   ]
  },
  {
   "cell_type": "code",
   "execution_count": 40,
   "metadata": {},
   "outputs": [
    {
     "name": "stdout",
     "output_type": "stream",
     "text": [
      "+----+----------+\n",
      "|Name|Popularity|\n",
      "+----+----------+\n",
      "|Bugs|         1|\n",
      "+----+----------+\n",
      "\n"
     ]
    }
   ],
   "source": [
    "spark.sql(\"select * from cartoonCharacters where Name = 'Bugs'\").show"
   ]
  },
  {
   "cell_type": "code",
   "execution_count": 41,
   "metadata": {},
   "outputs": [
    {
     "name": "stdout",
     "output_type": "stream",
     "text": [
      "+--------+\n",
      "|count(1)|\n",
      "+--------+\n",
      "|      10|\n",
      "+--------+\n",
      "\n"
     ]
    }
   ],
   "source": [
    "spark.sql(\"select count(*) from cartoonCharacters\").show"
   ]
  },
  {
   "cell_type": "markdown",
   "metadata": {},
   "source": [
    "## Infererring Schema from inside class"
   ]
  },
  {
   "cell_type": "code",
   "execution_count": 42,
   "metadata": {},
   "outputs": [
    {
     "data": {
      "text/plain": [
       "yahooStocks: org.apache.spark.rdd.RDD[String] = /user/yahoo_stocks.csv MapPartitionsRDD[15] at textFile at <console>:25\n"
      ]
     },
     "execution_count": 42,
     "metadata": {},
     "output_type": "execute_result"
    }
   ],
   "source": [
    "val yahooStocks = sc.textFile(\"/user/yahoo_stocks.csv\")"
   ]
  },
  {
   "cell_type": "code",
   "execution_count": 43,
   "metadata": {},
   "outputs": [
    {
     "data": {
      "text/plain": [
       "res22: Array[String] = Array(Date,Open,High,Low,Close,Volume,Adj Close, 2001-01-02,30.3125,30.375,27.50,28.1875,21939200,14.09375, 2000-12-29,30.3125,31.1875,29.5625,30.0625,20893400,15.03125, 2000-12-28,29.4375,31.75,29.125,31.00,24374600,15.50, 2000-12-27,31.00,31.50,29.125,29.75,22045400,14.875, 2000-12-26,32.00,34.00,30.125,31.1875,37536200,15.59375, 2000-12-22,26.4375,29.875,26.0625,29.5625,28347400,14.78125, 2000-12-21,26.75,28.25,25.0625,25.625,27794400,12.8125, 2000-12-20,25.8125,28.375,25.50,27.9375,44862800,13.96875, 2000-12-19,30.5625,31.9687,28.00,28.00,36131600,14.00, 2000-12-18,33.875,34.00,30.25,32.00,31697600,16.00, 2000-12-15,32.00,34.00,31.0625,33.00,40448000,16.50, 2000-12-14,35.3125,35.9062,31.9375,32.00,20899800,16.00, 2000-12-13,38.3125,38.625,34.25,34.875,33640400..."
      ]
     },
     "execution_count": 43,
     "metadata": {},
     "output_type": "execute_result"
    }
   ],
   "source": [
    "yahooStocks.collect"
   ]
  },
  {
   "cell_type": "code",
   "execution_count": null,
   "metadata": {},
   "outputs": [],
   "source": []
  }
 ],
 "metadata": {
  "kernelspec": {
   "display_name": "spylon-kernel",
   "language": "scala",
   "name": "spylon-kernel"
  },
  "language_info": {
   "codemirror_mode": "text/x-scala",
   "file_extension": ".scala",
   "help_links": [
    {
     "text": "MetaKernel Magics",
     "url": "https://metakernel.readthedocs.io/en/latest/source/README.html"
    }
   ],
   "mimetype": "text/x-scala",
   "name": "scala",
   "pygments_lexer": "scala",
   "version": "0.4.1"
  }
 },
 "nbformat": 4,
 "nbformat_minor": 4
}
